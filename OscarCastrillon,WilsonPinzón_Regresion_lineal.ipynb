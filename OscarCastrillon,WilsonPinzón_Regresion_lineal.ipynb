{
  "cells": [
    {
      "cell_type": "markdown",
      "metadata": {
        "id": "view-in-github",
        "colab_type": "text"
      },
      "source": [
        "<a href=\"https://colab.research.google.com/github/wilnal1607/TALLER-3/blob/main/OscarCastrillon%2CWilsonPinz%C3%B3n_Regresion_lineal.ipynb\" target=\"_parent\"><img src=\"https://colab.research.google.com/assets/colab-badge.svg\" alt=\"Open In Colab\"/></a>"
      ]
    },
    {
      "cell_type": "markdown",
      "metadata": {
        "id": "Ii_7DdtJH8e2"
      },
      "source": [
        "# Taller 3: Regresión Lineal y Conceptos Fundamentales\n",
        "\n",
        "\n"
      ],
      "id": "Ii_7DdtJH8e2"
    },
    {
      "cell_type": "markdown",
      "metadata": {
        "id": "1KuTZ6PkH8e5"
      },
      "source": [
        "## Instrucciones Generales\n",
        "\n",
        "**Fecha de entrega:** 20 de septiembre.\n",
        "**Tiempo disponible:** Tienen dos clases y el fin de semana para completar el taller.\n",
        "\n",
        "1.  **Trabajo en Grupo:** Este taller se debe realizar en los grupos previamente definidos.\n",
        "2.  **Repositorio en GitHub:** Cada grupo debe crear un repositorio en GitHub.\n",
        "    * Una sola persona del grupo es responsable de crearlo.\n",
        "    * El repositorio debe llamarse **`Regresion_Lineal`**.\n",
        "    * Este archivo debe ser subido al repositorio con el nombre **`Regresion_Lineal.ipynb`**.\n",
        "    * **Alternativa:** Si tienen complicaciones con GitHub, pueden enviar el enlace del cuaderno de Google Colab al aula virtual.\n",
        "3.  **Actividad a Mano (20% de la nota):**\n",
        "    * La asistencia a clase es **obligatoria**.\n",
        "    * Se realizará una actividad práctica de regresión lineal a mano.\n",
        "    * Cada integrante del grupo deberá firmar la hoja de la actividad, la cual constituye el 20% de la nota de este taller."
      ],
      "id": "1KuTZ6PkH8e5"
    },
    {
      "cell_type": "markdown",
      "metadata": {
        "id": "mgaEeFAbH8e7"
      },
      "source": [
        "---"
      ],
      "id": "mgaEeFAbH8e7"
    },
    {
      "cell_type": "markdown",
      "metadata": {
        "id": "et22XL5bH8e7"
      },
      "source": [
        "## **Parte 1: Definición del Problema**\n",
        "\n",
        "Piensa en tu experiencia académica o laboral en un área de operaciones y elige **un problema** relacionado con inventarios, calidad, mantenimiento o productividad.\n",
        "\n",
        "1.  Indica cuál es tu variable dependiente **$Y$** (aquello que quieres predecir o clasificar).\n",
        "2.  Lista entre 3 y 5 variables independientes **$X$** que medirías para predecir $Y$.\n",
        "3.  Especifica si tu problema es de **regresión** (predecir un valor numérico) o de **clasificación**."
      ],
      "id": "et22XL5bH8e7"
    },
    {
      "cell_type": "markdown",
      "metadata": {
        "id": "pxSLPR4AH8e8"
      },
      "source": [
        "**Respuesta (escribe aquí):**\n",
        "\n",
        "\n",
        "**Respuesta 1:**\n",
        "Variable Dependiente (Y):\n",
        "\n",
        "Nivel de Inventario: El nivel de inventario que se tiene disponible en un almacén o centro de distribución en un momento determinado. Esta variable es crucial para evitar tanto el exceso de inventario (que implica altos costos de almacenamiento) como la escasez (que puede generar retrasos en los pedidos y pérdida de ventas).\n",
        "\n",
        "**Respuesta 2:**\n",
        "Variables Independientes (X):\n",
        "\n",
        "Demanda de productos: La cantidad de productos que se han vendido o que se espera vender en un período específico. Este dato es fundamental para estimar las necesidades de reposición.\n",
        "\n",
        "Tiempo de reposición (Lead Time): El tiempo que tarda un proveedor o el proceso de reabastecimiento para entregar nuevos productos. Esto afecta directamente la cantidad de inventario que debe mantenerse.\n",
        "\n",
        "Frecuencia de ventas/pedidos: Cuán seguido se realiza un pedido o se venden productos. Si la frecuencia es alta, el inventario debe ajustarse más rápidamente.\n",
        "\n",
        "Estacionalidad: Factores relacionados con la estacionalidad de la demanda, como ventas aumentadas en ciertas épocas del año (vacaciones, festividades, etc.).\n",
        "\n",
        "Precio de compra o costo de reposición: Este dato influye en el tamaño del pedido, ya que la empresa puede ajustar sus compras según el costo de los productos o la rentabilidad de mantener un inventario más grande.\n",
        "\n",
        "**Respuesta 3:**\n",
        "Tipo de Problema:\n",
        "\n",
        "Regresión: Dado que el nivel de inventario es una variable numérica continua, el problema se clasifica como un problema de regresión. El objetivo sería predecir un valor numérico de inventario necesario basado en las variables independientes mencionadas."
      ],
      "id": "pxSLPR4AH8e8"
    },
    {
      "cell_type": "markdown",
      "metadata": {
        "id": "fGoj1KxxH8e8"
      },
      "source": [
        "---"
      ],
      "id": "fGoj1KxxH8e8"
    },
    {
      "cell_type": "markdown",
      "metadata": {
        "id": "eHOtOSQiH8e9"
      },
      "source": [
        "## **Parte 2: Preprocesamiento de Datos y *Leakage***\n",
        "\n",
        "Basado en el caso que definiste en la Parte 1:\n",
        "\n",
        "1.  Lista entre 3 y 5 **transformaciones** que aplicarías a tus datos (ej. imputación de valores faltantes, codificación de variables categóricas, escalado, creación de *lags*, etc.) y **justifica por qué** cada una es necesaria.\n",
        "2.  Señala un posible riesgo de ***data leakage*** (fuga de datos) en tu plan y explica cómo lo evitarías usando un *pipeline* de preprocesamiento."
      ],
      "id": "eHOtOSQiH8e9"
    },
    {
      "cell_type": "markdown",
      "metadata": {
        "id": "6KYkmr9mH8e9"
      },
      "source": [
        "**Respuesta (escribe aquí):**\n",
        "1. Transformaciones Aplicadas a los Datos:\n",
        "\n",
        "a. Imputación de Valores Faltantes:\n",
        "\n",
        "Justificación: En un conjunto de datos real, es probable que falten algunos valores, especialmente en variables como \"Demanda de productos\" o \"Tiempo de reposición\". La imputación de estos valores es fundamental para evitar que el modelo sea sesgado o pierda información. Dependiendo del tipo de variable, se podría usar la media, la mediana o, en el caso de variables categóricas, el valor más frecuente.\n",
        "\n",
        "Técnica: Para variables continuas, la imputación por media o mediana sería adecuada, y para variables categóricas, se podría imputar el valor más frecuente.\n",
        "\n",
        "b. Escalado de Variables Continuas:\n",
        "\n",
        "Justificación: Las variables como \"Demanda de productos\", \"Tiempo de reposición\" y \"Precio de compra\" pueden tener escalas muy diferentes, lo que podría afectar el rendimiento del modelo, especialmente si se utilizan algoritmos sensibles a la escala, como los de regresión lineal o redes neuronales. El escalado asegura que cada variable tenga el mismo peso en el modelo.\n",
        "\n",
        "Técnica: Se usaría Normalización (para valores entre 0 y 1) o Estandarización (transformación a una distribución con media 0 y desviación estándar 1) según las necesidades del modelo.\n",
        "\n",
        "c. Creación de Lags (Variables de Rezago):\n",
        "\n",
        "Justificación: El comportamiento futuro de la demanda puede depender del comportamiento pasado (por ejemplo, la demanda de los últimos días o meses). La creación de variables rezagadas (lags) permite al modelo capturar patrones temporales, como la estacionalidad, que pueden ayudar a mejorar la predicción del inventario necesario.\n",
        "\n",
        "Técnica: Se crearían variables como \"Demanda de productos rezagada 1 día\", \"Demanda de productos rezagada 7 días\", etc., para introducir temporalidad en el modelo.\n",
        "\n",
        "d. Codificación de Variables Categóricas:\n",
        "\n",
        "Justificación: En caso de que algunas variables como \"Estacionalidad\" o \"Categoría de producto\" sean categóricas (por ejemplo, \"Verano\", \"Otoño\"), el modelo podría necesitar estas variables en un formato numérico. La codificación convierte estas variables en representaciones numéricas para que puedan ser interpretadas por el modelo de aprendizaje automático.\n",
        "\n",
        "Técnica: Se usaría Codificación One-Hot si hay un número limitado de categorías o Codificación por Etiquetas si las categorías tienen un orden (por ejemplo, categorías de precios).\n",
        "\n",
        "e. Detección y Eliminación de Valores Atípicos (Outliers):\n",
        "\n",
        "Justificación: Los valores extremos, como una demanda inesperada extremadamente alta o un tiempo de reposición anormalmente largo, pueden afectar la precisión del modelo y generar resultados erróneos. Detectar y eliminar estos valores ayuda a mejorar la robustez del modelo.\n",
        "\n",
        "Técnica: Se podría usar un método estadístico como el Rango Intercuartílico (IQR) o Desviación Estándar para identificar valores atípicos.\n",
        "\n",
        "2. Riesgo de Data Leakage (Fuga de Datos):\n",
        "\n",
        "Posible Riesgo de Data Leakage:\n",
        "\n",
        "Un riesgo común en problemas como el de inventarios es que se podría incluir información del futuro en el modelo para predecir el inventario presente. Por ejemplo, si se utiliza el \"Nivel de inventario futuro\" o la \"Demanda futura\" en el conjunto de entrenamiento, el modelo podría aprender a predecir un resultado basado en información que en la práctica no tendría disponible al momento de hacer las predicciones.\n",
        "\n",
        "Evitar Fuga de Datos con un Pipeline de Preprocesamiento:\n",
        "\n",
        "Para evitar la fuga de datos, se deben seguir las siguientes prácticas:\n",
        "\n",
        "Transformación Temporal:\n",
        "\n",
        "En lugar de incluir datos del futuro (como la demanda futura), las características de tiempo deben ser generadas basándose solo en información disponible hasta el momento actual. La creación de lags debe hacerse de forma que solo se utilicen los datos anteriores a la fecha que se está prediciendo. Por ejemplo, si estamos prediciendo el nivel de inventario para el día 10 de septiembre, las variables de \"Demanda rezagada\" solo deben incluir información hasta el día 9 de septiembre.\n",
        "\n",
        "Pipeline de Preprocesamiento:\n",
        "\n",
        "Al usar un pipeline de preprocesamiento, las transformaciones (como la imputación de valores faltantes, la creación de lags y la codificación de variables) deben ser aplicadas solo sobre el conjunto de entrenamiento antes de hacer cualquier predicción sobre el conjunto de prueba. Esto asegura que el modelo no tenga acceso a información futura durante la fase de entrenamiento.\n",
        "\n",
        "Ejemplo de flujo en pipeline:\n",
        "\n",
        "Separación de datos en conjunto de entrenamiento y conjunto de prueba.\n",
        "\n",
        "Aplicación de transformaciones (como imputación de valores faltantes, escalado, etc.) solo al conjunto de entrenamiento.\n",
        "\n",
        "Creación de variables rezagadas utilizando solo datos anteriores al día que se está prediciendo.\n",
        "\n",
        "Entrenamiento del modelo con el conjunto de entrenamiento.\n",
        "\n",
        "Predicción en el conjunto de prueba, asegurando que el modelo solo tenga acceso a datos anteriores a la predicción.\n",
        "\n"
      ],
      "id": "6KYkmr9mH8e9"
    },
    {
      "cell_type": "markdown",
      "metadata": {
        "id": "hbyCKrY6H8e-"
      },
      "source": [
        "---"
      ],
      "id": "hbyCKrY6H8e-"
    },
    {
      "cell_type": "markdown",
      "metadata": {
        "id": "ukCTM2EKH8e-"
      },
      "source": [
        "## **Parte 3: Interpretación y Métricas de Regresión Simple**\n",
        "\n",
        "Para esta sección, elige un caso simple de regresión (puede ser el tuyo o uno hipotético, como predecir la demanda de un producto según su precio).\n",
        "\n",
        "1.  Define claramente las variables **$Y$** y **$X$** junto con sus **unidades** (ej. $Y$: número de unidades vendidas, $X$: precio en dólares).\n",
        "2.  Supón que entrenas un modelo y obtienes una pendiente de **$\\hat{\\beta}_1 = -0.6$**. Escribe una interpretación clara y concisa de este coeficiente en el contexto de tu problema.\n",
        "3.  ¿Qué **métrica** de evaluación usarías (MAE, RMSE, o MAPE) y **por qué** es la más adecuada para tu caso?\n",
        "4.  Menciona **un supuesto** del modelo de regresión lineal que validarías (ej. linealidad, homocedasticidad) y explica **cómo** lo harías (usando un gráfico o una prueba estadística)."
      ],
      "id": "ukCTM2EKH8e-"
    },
    {
      "cell_type": "markdown",
      "metadata": {
        "id": "5KGzW8pSH8e_"
      },
      "source": [
        "**Respuesta (escribe aquí):**\n",
        "\n",
        "Caso de Regresión: Predicción de la Demanda de un Producto según su Precio\n",
        "\n",
        "Variables Definidas:\n",
        "\n",
        "Y: Demanda de un producto (número de unidades vendidas)\n",
        "\n",
        "Unidad: Unidades de producto vendidas.\n",
        "\n",
        "X: Precio del producto (en dólares)\n",
        "\n",
        "Unidad: Dólares.\n",
        "\n",
        "Modelo de Regresión Lineal:\n",
        "\n",
        "La ecuación del modelo de regresión lineal sería algo como:\n",
        "\n",
        "Y=β0​+β1​X+ϵ\n",
        "donde:\n",
        "\n",
        "𝛽\n",
        "0\n",
        "β\n",
        "0\n",
        "\t​\n",
        "\n",
        " es la intersección o constante,\n",
        "\n",
        "𝛽\n",
        "1\n",
        "β\n",
        "1\n",
        "\t​\n",
        "\n",
        " es la pendiente,\n",
        "\n",
        "𝑋\n",
        "X es el precio del producto,\n",
        "\n",
        "𝑌\n",
        "Y es la demanda (número de unidades vendidas), y\n",
        "\n",
        "𝜖\n",
        "ϵ es el término de error aleatorio.\n",
        "\n",
        "Interpretación del Coeficiente de la Pendiente (β₁ = -0.6):\n",
        "\n",
        "La pendiente de\n",
        "𝛽\n",
        "1\n",
        "=\n",
        "−\n",
        "0.6\n",
        "β\n",
        "1\n",
        "\t​\n",
        "\n",
        "=−0.6 implica que por cada aumento de 1 dólar en el precio del producto, la demanda de ese producto disminuiría en 0.6 unidades. Es decir, a medida que el precio sube, la demanda baja, lo cual tiene sentido en la mayoría de los productos: si el precio aumenta, los consumidores probablemente compren menos unidades.\n",
        "\n",
        "Métrica de Evaluación:\n",
        "\n",
        "Para este caso, utilizaría el Error Absoluto Medio (MAE) como métrica de evaluación.\n",
        "\n",
        "Justificación: El MAE calcula el valor absoluto de las diferencias entre las predicciones y los valores reales, y luego toma el promedio de esos errores.\n",
        "\n",
        "Razón para usar MAE:\n",
        "\n",
        "Simplicidad: El MAE es fácil de interpretar porque tiene las mismas unidades que las variables originales (unidades vendidas).\n",
        "\n",
        "Menos sensible a grandes errores: El MAE es menos sensible a los valores atípicos en comparación con el RMSE (raíz del error cuadrático medio), lo que puede ser útil si no estamos tratando con datos muy ruidosos.\n",
        "\n",
        "Supuesto del Modelo de Regresión Lineal que Validaría:\n",
        "\n",
        "Uno de los supuestos más importantes en un modelo de regresión lineal es la linealidad (la relación entre las variables independientes y dependientes debe ser lineal) y la homocedasticidad (la varianza de los errores debe ser constante a lo largo de los valores de las predicciones).\n",
        "\n",
        "Validación de la Linealidad:\n",
        "\n",
        "Para validar que la relación entre el precio y la demanda es realmente lineal, podemos realizar un gráfico de dispersión entre las variables\n",
        "𝑋\n",
        "X (precio) y\n",
        "𝑌\n",
        "Y (demanda).\n",
        "\n",
        "Interpretación: Si el gráfico muestra una tendencia lineal clara, esto indicaría que el supuesto de linealidad es válido. Si no es lineal, podríamos necesitar transformar las variables o usar otro tipo de modelo (por ejemplo, regresión polinómica).\n",
        "\n",
        "Validación de la Homocedasticidad:\n",
        "\n",
        "Para verificar la homocedasticidad, podemos crear un gráfico de residuos (residuos frente a las predicciones). Los residuos son las diferencias entre los valores predichos y los valores reales.\n",
        "\n",
        "Interpretación: Si el gráfico muestra una dispersión aleatoria de los residuos sin patrón claro, esto sugiere que la varianza de los errores es constante, cumpliendo con el supuesto de homocedasticidad. Si los residuos se agrupan en ciertas áreas (por ejemplo, cuando las predicciones son más altas o más bajas), esto indicaría que los errores no son homocedásticos, y podría ser necesario ajustar el modelo.\n",
        "\n",
        "Gráfico de Residuos (para homocedasticidad):\n",
        "\n",
        "Gráfico: Eje\n",
        "𝑌\n",
        "Y (residuos) frente a\n",
        "𝑋\n",
        "X (valores predichos).\n",
        "\n",
        "Conclusión esperada: Si la dispersión de los residuos es constante, no habrá un patrón en el gráfico (dispersión aleatoria). Si se observa un patrón (por ejemplo, un embudo), hay evidencia de heterocedasticidad y el modelo podría necesitar ajustes."
      ],
      "id": "5KGzW8pSH8e_"
    },
    {
      "cell_type": "markdown",
      "metadata": {
        "id": "NlCf92svH8e_"
      },
      "source": [
        "---"
      ],
      "id": "NlCf92svH8e_"
    },
    {
      "cell_type": "markdown",
      "metadata": {
        "id": "DEOrd_fSH8e_"
      },
      "source": [
        "## **Parte 4: Regresión Múltiple y Colinealidad**\n",
        "\n",
        "Volviendo a tu caso de la Parte 1 (con múltiples variables).\n",
        "\n",
        "1.  Escribe el **vector de variables** $\\vec{X}$ y la **respuesta** $Y$.\n",
        "2.  Explica cómo interpretarías el **coeficiente** de una de tus variables clave (incluyendo unidades y el sentido de la relación: positiva o negativa).\n",
        "3.  Si sospecharas que existe **colinealidad** entre tus variables, menciona **dos acciones** que podrías tomar para mitigarla."
      ],
      "id": "DEOrd_fSH8e_"
    },
    {
      "cell_type": "markdown",
      "metadata": {
        "id": "REUWPUP_H8fA"
      },
      "source": [
        "**Respuesta (escribe aquí):**\n",
        "\n",
        "Parte 1: Caso de Inventarios con Múltiples Variables\n",
        "Vector de Variables X⃗ y la Respuesta Y\n",
        "\n",
        "Y: Nivel de Inventario (número de unidades disponibles en el almacén).\n",
        "\n",
        "Unidad: Unidades de producto disponibles en el almacén.\n",
        "\n",
        "X⃗:\n",
        "\n",
        "X₁: Demanda de productos (número de unidades vendidas o demandadas).\n",
        "\n",
        "Unidad: Unidades de producto.\n",
        "\n",
        "X₂: Tiempo de reposición (tiempo que tarda en llegar un nuevo lote del proveedor).\n",
        "\n",
        "Unidad: Días.\n",
        "\n",
        "X₃: Frecuencia de ventas/pedidos (cuán seguido se realizan ventas o pedidos).\n",
        "\n",
        "Unidad: Número de pedidos por mes.\n",
        "\n",
        "X₄: Estacionalidad (variable que representa si es temporada alta o baja para las ventas del producto).\n",
        "\n",
        "Unidad: Categórica (0 = baja demanda, 1 = alta demanda).\n",
        "\n",
        "X₅: Precio de compra (costo del producto cuando es adquirido para el inventario).\n",
        "\n",
        "Unidad: Dólares.\n",
        "\n",
        "Interpretación del Coeficiente de una Variable Clave:\n",
        "\n",
        "Vamos a tomar el coeficiente de X₁: Demanda de productos como ejemplo:\n",
        "\n",
        "Coeficiente: Supongamos que el coeficiente de\n",
        "𝛽\n",
        "1\n",
        "β\n",
        "1\n",
        "\t​\n",
        "\n",
        " para Demanda de productos es 0.75.\n",
        "\n",
        "Interpretación:\n",
        "\n",
        "El coeficiente\n",
        "𝛽\n",
        "1\n",
        "=\n",
        "0.75\n",
        "β\n",
        "1\n",
        "\t​\n",
        "\n",
        "=0.75 indica que por cada unidad adicional de demanda (por ejemplo, una unidad más vendida o solicitada), el nivel de inventario necesario aumenta en 0.75 unidades.\n",
        "\n",
        "Unidades: Como estamos prediciendo el número de unidades en inventario, el coeficiente es de 0.75 unidades de inventario por cada unidad de aumento en la demanda.\n",
        "\n",
        "Sentido de la relación: La relación es positiva, lo que tiene sentido en este contexto, porque cuanto mayor sea la demanda de un producto, mayor será la cantidad de inventario que necesitarás para satisfacer esa demanda.\n",
        "\n",
        "Posible Colinealidad entre las Variables:\n",
        "\n",
        "La colinealidad ocurre cuando dos o más variables independientes están altamente correlacionadas entre sí. Esto puede afectar negativamente la estabilidad del modelo y la interpretación de los coeficientes, ya que el modelo no podrá discernir adecuadamente los efectos individuales de cada variable.\n",
        "\n",
        "En este caso, algunas variables pueden estar correlacionadas. Por ejemplo:\n",
        "\n",
        "Demanda de productos (X₁) y Frecuencia de ventas/pedidos (X₃): Si aumentan las ventas, es probable que la frecuencia de los pedidos también aumente, por lo que ambas variables podrían estar correlacionadas.\n",
        "\n",
        "Tiempo de reposición (X₂) y Frecuencia de ventas/pedidos (X₃): Si los pedidos se hacen más frecuentemente, el tiempo de reposición podría ser un factor que dependa de esa frecuencia.\n",
        "\n",
        "Acciones para Mitigar la Colinealidad:\n",
        "\n",
        "Eliminar una de las variables correlacionadas:\n",
        "\n",
        "Si dos variables están altamente correlacionadas (por ejemplo, Demanda de productos y Frecuencia de ventas/pedidos), se podría eliminar una de ellas del modelo. Por ejemplo, podríamos optar por usar solo la Demanda de productos si pensamos que la Frecuencia de ventas/pedidos aporta información redundante.\n",
        "\n",
        "Utilizar Técnicas de Regularización (como Ridge o Lasso):\n",
        "\n",
        "Ridge Regression: Este método penaliza los coeficientes de las variables independientes, lo que ayuda a reducir la magnitud de los coeficientes de variables colineales sin eliminarlas completamente. Esto es útil cuando se sospecha que varias variables son importantes, pero están altamente correlacionadas.\n",
        "\n",
        "Lasso Regression: Similar al Ridge, pero puede incluso reducir algunos coeficientes a cero, eliminando efectivamente variables colineales del modelo.\n"
      ],
      "id": "REUWPUP_H8fA"
    },
    {
      "cell_type": "markdown",
      "metadata": {
        "id": "Kfz2bBkzH8fA"
      },
      "source": [
        "---"
      ],
      "id": "Kfz2bBkzH8fA"
    },
    {
      "cell_type": "markdown",
      "metadata": {
        "id": "d0sQYW3DH8fA"
      },
      "source": [
        "## **Parte 5: Interacciones y Multicolinealidad (VIF)**\n",
        "\n",
        "1.  Plantea un caso con una variable $Y$ y entre 4 y 6 variables $X$. ¿Qué término de **interacción** entre dos variables podrías añadir al modelo y **por qué** crees que sería útil?\n",
        "2.  Si al calcular el Factor de Inflación de la Varianza (VIF) para una variable, obtienes un valor alto (ej. > 10), menciona **dos acciones** que podrías tomar para solucionarlo."
      ],
      "id": "d0sQYW3DH8fA"
    },
    {
      "cell_type": "markdown",
      "metadata": {
        "id": "tEgefQ1cH8fA"
      },
      "source": [
        "**Respuesta (escribe aquí):**\n",
        "\n",
        "Vamos a abordar ambas partes de la pregunta una por una:\n",
        "\n",
        "Caso con una variable dependiente 𝑌 y varias variables independientes 𝑋1,𝑋2,𝑋3,𝑋4,𝑋5:Imagina un modelo donde estamos tratando de predecir el rendimiento de una empresa (variable dependiente 𝑌), a partir de varias variables independientes. Algunas posibles variables independientes podrían ser:\n",
        "\n",
        "Por ejemplo, si\n",
        "X1: Inversión en marketing.\n",
        "𝑋2: Cantidad de personal.\n",
        "X3: Nivel de satisfacción del cliente.\n",
        "𝑋4: Gasto en investigación y desarrollo (I+D).\n",
        "𝑋5: Condiciones económicas generales.\t​\n",
        "\n",
        "Razón para añadir la interacción:\n",
        "\n",
        "Si una empresa invierte más en marketing, pero el nivel de satisfacción del cliente es bajo, los resultados pueden no ser tan positivos. Por otro lado, si el nivel de satisfacción es alto, esa inversión podría traducirse en un mayor rendimiento. La interacción entre estas dos variables capturaría ese efecto conjunto y mejoraría la capacidad predictiva del modelo.\n",
        "\n",
        "Si el VIF (Factor de Inflación de la Varianza) de una variable es alto (por ejemplo, mayor a 10):\n",
        "\n",
        "El VIF mide cuánto se inflan los errores estándar de los coeficientes debido a la multicolinealidad entre las variables independientes. Si obtenemos un VIF alto, significa que la variable está altamente correlacionada con otras variables del modelo, lo que puede causar inestabilidad en las estimaciones.\n",
        "\n",
        "Dos acciones que podrías tomar:\n",
        "\n",
        "Eliminar una de las variables altamente correlacionadas: Si dos o más variables están altamente correlacionadas, puedes optar por eliminar una de ellas del modelo. Esto reduce la multicolinealidad y mejora la estabilidad de las estimaciones.\n",
        "\n",
        " (Nivel de satisfacción del cliente) están altamente correlacionados, y no hay una justificación clara para mantener ambas, puedes eliminar una de ellas para reducir el VIF.\n",
        "\n",
        "Crear una nueva variable compuesta (transformación de variables): Si tienes variables que están correlacionadas, a veces puedes crear una nueva variable combinando las variables existentes de una manera lógica. Por ejemplo, si tienes 𝑋1 (Marketing) y 𝑋2 (Personal) que están muy correlacionados, podrías crear una nueva variable que represente \"Recursos dedicados\" (por ejemplo,\n",
        "𝑋1+𝑋2) y utilizar esa nueva variable en lugar de las originales.\n",
        "\n",
        "Estas dos acciones ayudan a reducir el problema de la multicolinealidad y a mejorar la precisión y estabilidad del modelo."
      ],
      "id": "tEgefQ1cH8fA"
    },
    {
      "cell_type": "markdown",
      "metadata": {
        "id": "8XdQIyu_H8fB"
      },
      "source": [
        "---"
      ],
      "id": "8XdQIyu_H8fB"
    },
    {
      "cell_type": "markdown",
      "metadata": {
        "id": "XKsr-uPlH8fB"
      },
      "source": [
        "## **Parte 6: Variables Categóricas e Interacciones**\n",
        "\n",
        "1.  Define una **variable categórica** para tu caso (puedes inventarla si no la tenías). Elige una de sus categorías como el nivel **base** o de referencia y **justifica** tu elección.\n",
        "2.  Crea una **interacción** entre una variable numérica y la variable categórica que definiste. Explica cómo se interpretaría el coeficiente de esta interacción."
      ],
      "id": "XKsr-uPlH8fB"
    },
    {
      "cell_type": "markdown",
      "metadata": {
        "id": "7i_JBwwbH8fC"
      },
      "source": [
        "**Respuesta (escribe aquí):**\n",
        "\n",
        "Variable Categórica:\n",
        "\n",
        "Supongamos que agregamos una nueva variable categórica a nuestro modelo:\n",
        "\n",
        "𝑍: Tipo de industria (con tres categorías):\n",
        "\n",
        "𝑍1: Tecnología\n",
        "𝑍2: Manufactura\n",
        "𝑍3: Servicios\n",
        "\n",
        "Elección del Nivel Base:\n",
        "\n",
        "Elegimos 𝑍1 (Tecnología) como el nivel base o de referencia. La elección de la categoría de Tecnología como base podría estar justificada por varias razones:\n",
        "\n",
        "Relevancia del sector: La tecnología es un sector clave y, dependiendo del contexto, podría ser el que más influya en el rendimiento de la empresa, ya que a menudo se asocia con una mayor innovación y crecimiento.\n",
        "\n",
        "Interpretabilidad: Si tomamos Tecnología como la categoría base, entonces el modelo nos dará coeficientes que muestran cómo las otras categorías (Manufactura y Servicios) se desvían del rendimiento de las empresas tecnológicas.\n",
        "\n",
        "Al elegir la categoría base, lo que hacemos es que la variable\n",
        "𝑍1 no será incluida explícitamente en el modelo, pero su efecto se captura indirectamente a través de los coeficientes de las otras categorías.\n",
        "\n",
        "Interacción entre una variable numérica y la categórica:\n",
        "\n",
        "Ahora creamos una interacción entre una de las variables numéricas (Inversión en marketing 𝑋1) y la variable categórica Tipo de industria 𝑍. Esto sería:\n",
        "Y=β0​+β1​X1​+β2​Z2​+β3​Z3​+β4​(X1​×Z2​)+β5​(X1​×Z3​)+ϵ\n",
        "Variables:\n",
        "\n",
        "𝑋1: Inversión en marketing.\n",
        "𝑍2: Manufactura (comparado con Tecnología, que es la base).\n",
        "𝑍3: Servicios (comparado con Tecnología).\n",
        "\n",
        "Interpretación de los Coeficientes:\n",
        "\n",
        "𝛽0: Es el rendimiento de una empresa del sector Tecnología cuando la Inversión en marketing es cero.\n",
        "𝛽1: Es el cambio en el rendimiento de una empresa del sector Tecnología por cada unidad adicional de Inversión en marketing.\n",
        "𝛽2: Muestra la diferencia en rendimiento entre una empresa de Manufactura y una de Tecnología cuando la Inversión en marketing es cero.\n",
        "𝛽3: Muestra la diferencia en rendimiento entre una empresa de Servicios y una de Tecnología cuando la Inversión en marketing es cero.\n",
        "𝛽4: Es el cambio adicional en el rendimiento de una empresa de Manufactura por cada unidad adicional de Inversión en marketing en comparación con una empresa de Tecnología.\n",
        "𝛽5: Es el cambio adicional en el rendimiento de una empresa de Servicios por cada unidad adicional de Inversión en marketing en comparación con una empresa de Tecnología.\n",
        "Ejemplo de Interpretación del Coeficiente de Interacción:\n",
        "\n",
        "Si el coeficiente 𝛽4 es positivo y significativo, esto indicaría que, para las empresas de Manufactura, el rendimiento aumenta más rápidamente con la Inversión en marketing que para las empresas del sector Tecnológico (ya que\n",
        "𝑍1 es el nivel base). Si 𝛽5\tes negativo, significaría que, para las empresas del sector Servicios, el rendimiento aumenta más lentamente con la inversión en marketing en comparación con el sector Tecnología.\n",
        "\n",
        "¿Cómo interpretaríamos este tipo de interacción?\n",
        "\n",
        "Si 𝛽4 es positivo y significativo, interpretamos que la Inversión en marketing tiene un efecto positivo más fuerte en el rendimiento de las empresas del sector Manufactura que en las del sector Tecnología.\n",
        "\n",
        "Si β5 es negativo y significativo, esto indicaría que la relación entre Inversión en marketing y rendimiento es menos pronunciada en el sector Servicios en comparación con Tecnología.\n",
        "\n",
        "En resumen, este modelo con interacción nos permite entender no solo cómo la Inversión en marketing afecta a las empresas en general, sino también cómo el efecto de esa inversión varía según el sector industrial, lo que puede ofrecer información clave para ajustar estrategias de marketing según el sector en el que opere la empresa."
      ],
      "id": "7i_JBwwbH8fC"
    },
    {
      "cell_type": "markdown",
      "metadata": {
        "id": "DjYrQWpqH8fC"
      },
      "source": [
        "---"
      ],
      "id": "DjYrQWpqH8fC"
    },
    {
      "cell_type": "markdown",
      "metadata": {
        "id": "mG9YJpeoH8fC"
      },
      "source": [
        "## **Parte 7: Conceptos Clave de Clasificación**\n",
        "\n",
        "Aunque el taller se centra en regresión, estos conceptos son fundamentales en Machine Learning.\n",
        "\n",
        "1.  Explica qué es la **curva ROC** y para qué se utiliza en un problema de clasificación.\n",
        "2.  Define el concepto de **accuracy** (exactitud) y menciona una situación en la que podría ser una métrica engañosa.\n",
        "3.  Describe qué es una **matriz de confusión** y cómo se interpretan sus componentes (Verdaderos Positivos, Falsos Positivos, Verdaderos Negativos, Falsos Negativos)."
      ],
      "id": "mG9YJpeoH8fC"
    },
    {
      "cell_type": "markdown",
      "metadata": {
        "id": "aq-cYN3nH8fD"
      },
      "source": [
        "**Respuesta (escribe aquí):**\n",
        "1. Curva ROC (Receiver Operating Characteristic)\n",
        "\n",
        "La curva ROC es una herramienta gráfica utilizada para evaluar el rendimiento de un modelo de clasificación. Se utiliza principalmente en problemas donde el modelo tiene que asignar probabilidades a las clases y se debe decidir un umbral para clasificar un dato como positivo o negativo.\n",
        "\n",
        "¿Qué es y cómo se interpreta?\n",
        "\n",
        "La curva ROC muestra la relación entre la tasa de verdaderos positivos (TPR) y la tasa de falsos positivos (FPR) en diferentes umbrales de clasificación.\n",
        "\n",
        "TPR (True Positive Rate) o Sensibilidad: Proporción de casos positivos que el modelo ha clasificado correctamente. Se calcula como:\n",
        "FPR (False Positive Rate): Proporción de casos negativos que el modelo ha clasificado incorrectamente como positivos.\n",
        "La curva ROC traza FPR en el eje x y TPR en el eje y.\n",
        "\n",
        "¿Para qué se utiliza?\n",
        "\n",
        "Evaluar el rendimiento en clasificación binaria: Te ayuda a ver qué tan bien está funcionando tu modelo sin importar el umbral específico. Un modelo perfecto tendría una curva ROC que sube rápidamente a la esquina superior izquierda (donde TPR es 1 y FPR es 0).\n",
        "\n",
        "AUC (Area Under the Curve): El área bajo la curva ROC es una medida clave de desempeño. Un valor de AUC cercano a 1 indica un buen modelo, mientras que un valor cercano a 0.5 indica que el modelo no tiene capacidad de clasificación (similar a hacer una predicción aleatoria).\n",
        "\n",
        "Ejemplo:\n",
        "\n",
        "Si tu modelo de clasificación está tratando de predecir si un correo es spam o no, puedes usar la curva ROC para ver cómo el modelo se comporta en diferentes umbrales de clasificación, es decir, qué tan probable debe ser que un correo sea spam para que el modelo lo clasifique como tal.\n",
        "\n",
        "2. Accuracy (Exactitud)\n",
        "\n",
        "El accuracy es una métrica comúnmente utilizada para evaluar el rendimiento de un modelo de clasificación. Representa la proporción de predicciones correctas sobre el total de predicciones realizadas.\n",
        "Situación en la que accuracy puede ser engañoso:\n",
        "\n",
        "Desbalanceo de clases: Si tienes un conjunto de datos con muchas más instancias de una clase que de otra (por ejemplo, un modelo de clasificación de fraude con muy pocos fraudes en comparación con transacciones no fraudulentas), el accuracy puede ser muy alto simplemente porque el modelo clasifica correctamente todas las instancias de la clase mayoritaria, pero falla en predecir la clase minoritaria.\n",
        "\n",
        "Ejemplo: En un conjunto de datos de 1000 transacciones donde solo 10 son fraudulentas, un modelo que clasifique todas las transacciones como no fraudulentas tendrá un accuracy del 99% (ya que acertaría las 990 transacciones no fraudulentas), pero sería un modelo ineficaz en términos de detectar fraude.\n",
        "Matriz de Confusión\n",
        "\n",
        "La matriz de confusión es una herramienta que permite visualizar el rendimiento de un modelo de clasificación, mostrando las predicciones realizadas en comparación con los valores reales.\n",
        "\n",
        "Componentes de la matriz de confusión:\n",
        "\n",
        "La matriz de confusión se organiza en una tabla de 2x2 (para clasificación binaria), con las siguientes celdas:\n",
        "\n",
        "\tPredicción: Positivo\tPredicción: Negativo\n",
        "Real: Positivo\tTP (Verdaderos Positivos)\tFN (Falsos Negativos)\n",
        "Real: Negativo\tFP (Falsos Positivos)\tTN (Verdaderos Negativos)\n",
        "Interpretación de cada componente:\n",
        "\n",
        "TP (Verdaderos Positivos): Número de instancias que son positivas y el modelo predijo correctamente como positivas. Ejemplo: El número de correos spam que el modelo clasificó correctamente como spam.\n",
        "\n",
        "TN (Verdaderos Negativos): Número de instancias que son negativas y el modelo predijo correctamente como negativas. Ejemplo: El número de correos no spam que el modelo clasificó correctamente como no spam.\n",
        "\n",
        "FP (Falsos Positivos): Número de instancias que son negativas pero el modelo predijo incorrectamente como positivas. Ejemplo: El número de correos no spam que el modelo clasificó erróneamente como spam.\n",
        "\n",
        "FN (Falsos Negativos): Número de instancias que son positivas pero el modelo predijo incorrectamente como negativas. Ejemplo: El número de correos spam que el modelo clasificó erróneamente como no spam.\n",
        "\n",
        "¿Por qué es útil la matriz de confusión?\n",
        "\n",
        "Te da un desglose detallado de los tipos de errores que el modelo está cometiendo.\n",
        "\n",
        "A partir de ella, puedes calcular métricas como precisión, recall, F1-score y accuracy, que proporcionan una visión más completa del desempeño del modelo.\n",
        "\n",
        "Ejemplo de interpretación:\n",
        "\n",
        "Imagina que tienes el siguiente conjunto de resultados de una matriz de confusión para un modelo de clasificación de spam:\n",
        "\n",
        "\tPredicción: Spam (Positivo)\tPredicción: No Spam (Negativo)\n",
        "Real: Spam\t80 (TP)\t20 (FN)\n",
        "Real: No Spam\t10 (FP)\t890 (TN)\n",
        "\n",
        "TP (80): El modelo clasificó correctamente 80 correos spam como spam.\n",
        "\n",
        "TN (890): El modelo clasificó correctamente 890 correos no spam como no spam.\n",
        "\n",
        "FP (10): El modelo clasificó incorrectamente 10 correos no spam como spam.\n",
        "\n",
        "FN (20): El modelo clasificó incorrectamente 20 correos spam como no spam.\n",
        "\n",
        "Resumen de Métricas:\n",
        "\n",
        "Curva ROC: Muestra cómo el modelo clasifica a medida que varía el umbral, ayudando a visualizar el trade-off entre TPR y FPR.\n",
        "\n",
        "Accuracy: Proporción de predicciones correctas, pero puede ser engañoso en datasets desbalanceados.\n",
        "\n",
        "Matriz de Confusión: Desglosa el rendimiento del modelo en categorías específicas (TP, TN, FP, FN), proporcionando información sobre los tipos de errores cometidos."
      ],
      "id": "aq-cYN3nH8fD"
    }
  ],
  "metadata": {
    "kernelspec": {
      "display_name": "Python 3",
      "language": "python",
      "name": "python3"
    },
    "language_info": {
      "name": "python",
      "version": "3.x"
    },
    "colab": {
      "provenance": [],
      "include_colab_link": true
    }
  },
  "nbformat": 4,
  "nbformat_minor": 5
}